{
 "cells": [
  {
   "cell_type": "code",
   "execution_count": null,
   "metadata": {},
   "outputs": [],
   "source": [
    "print(\"Hola mundo\")"
   ]
  },
  {
   "cell_type": "code",
   "execution_count": 3,
   "metadata": {},
   "outputs": [
    {
     "name": "stdout",
     "output_type": "stream",
     "text": [
      "<class 'int'>\n",
      "<class 'float'>\n",
      "<class 'str'>\n",
      "<class 'str'>\n",
      "<class 'bool'>\n",
      "<class 'bool'>\n",
      "<class 'NoneType'>\n",
      "\n",
      "esto es un comentario\n",
      "\n"
     ]
    }
   ],
   "source": [
    "## Variables Primitivas\n",
    "entero = 3\n",
    "decimal = 1.1\n",
    "nombre = \"Adrian\"\n",
    "segundo_nombre = 'Alejandro'\n",
    "casado = False\n",
    "profesor = True\n",
    "hijos = None\n",
    "#type para saber que tipo de dato o funcion estoy utilizando\n",
    "#dos espacios cuando se escribe un comentario en la misma linea\n",
    "print(type(entero))  #int\n",
    "print(type(decimal))  #float\n",
    "print(type(nombre))  #str\n",
    "print(type(segundo_nombre))  #str\n",
    "print(type(casado))  #boolean\n",
    "print(type(profesor))  #boolean\n",
    "print(type(hijos))  #NoneType\n",
    "\n",
    "#Bloque de comentarios\n",
    "\"\"\"\n",
    "esto es un comentario\n",
    "\"\"\""
   ]
  },
  {
   "cell_type": "code",
   "execution_count": 4,
   "metadata": {},
   "outputs": [
    {
     "name": "stdout",
     "output_type": "stream",
     "text": [
      "3\n",
      "1.1\n"
     ]
    }
   ],
   "source": [
    "print(entero)\n",
    "entero = decimal\n",
    "print(entero)"
   ]
  },
  {
   "cell_type": "code",
   "execution_count": 5,
   "metadata": {},
   "outputs": [
    {
     "name": "stdout",
     "output_type": "stream",
     "text": [
      "<class 'tuple'>\n",
      "<class 'list'>\n",
      "<class 'dict'>\n"
     ]
    }
   ],
   "source": [
    "#Estructuras de datos\n",
    "tuplas = ()\n",
    "listas =[]\n",
    "diccionario = {}\n",
    "print(type(tuplas))\n",
    "print(type(listas))\n",
    "print(type(diccionario))"
   ]
  },
  {
   "cell_type": "code",
   "execution_count": 21,
   "metadata": {},
   "outputs": [
    {
     "name": "stdout",
     "output_type": "stream",
     "text": [
      "Falsy\n",
      "Falsy\n",
      "Truty\n",
      "Falsy\n",
      "Truty\n",
      "Falsy\n",
      "Truty\n"
     ]
    }
   ],
   "source": [
    "# Condicion (Boolean)\n",
    "# Truty\n",
    "# Fasly\n",
    "if(\"\"):\n",
    "    print(\"Truty\")\n",
    "else:\n",
    "    print(\"Falsy\")\n",
    "\n",
    "if(()):#Falsy\n",
    "    print(\"Truty\")\n",
    "else:\n",
    "    print(\"Falsy\")\n",
    "    \n",
    "if((1,2)):#Truty\n",
    "    print(\"Truty\")\n",
    "else:\n",
    "    print(\"Falsy\")\n",
    "\n",
    "if([]):#Falsy\n",
    "    print(\"Truty\")\n",
    "else:\n",
    "    print(\"Falsy\")\n",
    "    \n",
    "if([\"a\",\"b\"]): #Truty\n",
    "    print(\"Truty\")\n",
    "else:\n",
    "    print(\"Falsy\")\n",
    "    \n",
    "if({}):#Falsy\n",
    "    print(\"Truty\")\n",
    "else:\n",
    "    print(\"Falsy\")\n",
    "    \n",
    "if({nombre:\"Daniel\"}): #Truty\n",
    "    print(\"Truty\")\n",
    "else:\n",
    "    print(\"Falsy\")"
   ]
  },
  {
   "cell_type": "code",
   "execution_count": 22,
   "metadata": {},
   "outputs": [],
   "source": [
    "arreglo = [1, 2, 3, 4, 5, 6, 7, 8, 9, 10]"
   ]
  },
  {
   "cell_type": "code",
   "execution_count": 40,
   "metadata": {},
   "outputs": [
    {
     "name": "stdout",
     "output_type": "stream",
     "text": [
      "[3, 4, 5]\n",
      "[3, 4, 5, 6, 7, 8, 9, 10]\n",
      "10\n",
      "[3, 4, 5, 6, 7, 8, 9]\n",
      "[1, 2, 3, 4, 5, 6, 7, 8]\n",
      "[1, 2, 3, 4, 5, 6, 7, 8, 9, 10]\n"
     ]
    }
   ],
   "source": [
    "print(arreglo[2:5]) #Filtrar ([2,5[)\n",
    "print(arreglo[2:])\n",
    "print(arreglo[-1])  #Devuelve el ultimo indice\n",
    "print(arreglo[-8:-1])  #Filtrar ([2,-1[)\n",
    "print(arreglo[:-2])\n",
    "print(arreglo[:])  #imprimir todo el arreglo"
   ]
  },
  {
   "cell_type": "code",
   "execution_count": 59,
   "metadata": {},
   "outputs": [
    {
     "name": "stdout",
     "output_type": "stream",
     "text": [
      "<class 'bool'>\n",
      "True\n",
      "16\n",
      "[1, 1.1, 1.1, 1.1, 1.1, 2, 3, 4, 5, 6, 7, 8, 9, 10, 11, 11, 11]\n",
      "[1, 1.1, 1.1, 1.1, 1.1, 1.1, 2, 3, 4, 5, 6, 7, 8, 9, 10, 11, 11]\n"
     ]
    }
   ],
   "source": [
    "print(type(7 in arreglo))\n",
    "print(7 in arreglo)\n",
    "print(len(arreglo)) # Devuelve el numero de elementos\n",
    "arreglo.append(11)\n",
    "print(arreglo)\n",
    "arreglo.pop()\n",
    "arreglo.insert(1,1.1)\n",
    "print(arreglo)"
   ]
  },
  {
   "cell_type": "code",
   "execution_count": 57,
   "metadata": {},
   "outputs": [
    {
     "name": "stdout",
     "output_type": "stream",
     "text": [
      "1\n",
      "1.1\n",
      "1.1\n",
      "1.1\n",
      "2\n",
      "3\n",
      "4\n",
      "5\n",
      "6\n",
      "7\n",
      "8\n",
      "9\n",
      "10\n",
      "11\n",
      "11\n",
      "0\n",
      "1\n",
      "2\n",
      "3\n",
      "4\n",
      "5\n",
      "6\n",
      "7\n",
      "8\n",
      "9\n"
     ]
    }
   ],
   "source": [
    "for numero in arreglo:\n",
    "    print(numero)\n",
    "contador = 0\n",
    "while contador < 10:\n",
    "    print(contador)\n",
    "    contador += 1\n",
    "\n",
    "    "
   ]
  },
  {
   "cell_type": "code",
   "execution_count": 65,
   "metadata": {},
   "outputs": [
    {
     "data": {
      "text/plain": [
       "True"
      ]
     },
     "execution_count": 65,
     "metadata": {},
     "output_type": "execute_result"
    }
   ],
   "source": [
    "tupla_numeros = (1,2,3,4,5)\n",
    "tupla_numeros[0:3]\n",
    "#No se puede agregar ni modificar elementos una vez declarada la tupla\n",
    "3 in tupla_numeros"
   ]
  },
  {
   "cell_type": "code",
   "execution_count": 87,
   "metadata": {},
   "outputs": [
    {
     "data": {
      "text/plain": [
       "True"
      ]
     },
     "execution_count": 87,
     "metadata": {},
     "output_type": "execute_result"
    }
   ],
   "source": [
    "daniel = {\n",
    "    nombre: \"Daniel\",\n",
    "    \"apellido\": \"Gallardo\",\n",
    "    \"edad\": 22,\n",
    "    hijos: None,\n",
    "    casado: False,\n",
    "    \"mascotas\":[{nombre:\"Aslan\"}]\n",
    "}\n",
    "#Se debe poner las etiquetas entre \" \" cuando la variable no es declarada anteriormente\n",
    "daniel\n",
    "daniel[\"apellido\"] \n",
    "daniel[\"apellido\"] = \"Gallardo\"\n",
    "daniel[\"mascotas\"][0][nombre]\n",
    "daniel.keys() #Parte de la izquierda\n",
    "daniel.values() #Parte de la derecha\n",
    "\"apellido\" in daniel.keys()"
   ]
  },
  {
   "cell_type": "code",
   "execution_count": 85,
   "metadata": {},
   "outputs": [
    {
     "data": {
      "text/plain": [
       "False"
      ]
     },
     "execution_count": 85,
     "metadata": {},
     "output_type": "execute_result"
    }
   ],
   "source": [
    "#Operadores\n",
    "1 == 1 or 2 == 3 #True\n",
    "1 == 1 and 2 == 3 #Falsee"
   ]
  },
  {
   "cell_type": "code",
   "execution_count": null,
   "metadata": {},
   "outputs": [],
   "source": []
  }
 ],
 "metadata": {
  "kernelspec": {
   "display_name": "Python 3",
   "language": "python",
   "name": "python3"
  },
  "language_info": {
   "codemirror_mode": {
    "name": "ipython",
    "version": 3
   },
   "file_extension": ".py",
   "mimetype": "text/x-python",
   "name": "python",
   "nbconvert_exporter": "python",
   "pygments_lexer": "ipython3",
   "version": "3.7.4"
  }
 },
 "nbformat": 4,
 "nbformat_minor": 2
}
